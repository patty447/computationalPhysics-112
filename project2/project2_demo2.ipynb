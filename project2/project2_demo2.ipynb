{
 "cells": [
  {
   "cell_type": "code",
   "execution_count": 1,
   "metadata": {},
   "outputs": [],
   "source": [
    "import numpy as np\n",
    "import matplotlib.pyplot as plt\n",
    "from nbody import Particles, NBodySimulator\n",
    "from nbody import load_files, save_movie\n",
    "from numba import set_num_threads"
   ]
  },
  {
   "cell_type": "code",
   "execution_count": 2,
   "metadata": {},
   "outputs": [],
   "source": [
    "# Uncomment the following line to install required packages if needed\n",
    "\n",
    "#!conda install -y -c conda-forge ffmpeg, glob, numba"
   ]
  },
  {
   "cell_type": "markdown",
   "metadata": {},
   "source": [
    "# N-Body Simulation\n",
    "\n",
    "In this notebook, we will test the `NBodySimulator` class in `./nbody/simulator.py`. "
   ]
  },
  {
   "cell_type": "code",
   "execution_count": 3,
   "metadata": {},
   "outputs": [],
   "source": [
    "# Set the number of threads to use for numba\n",
    "nthreads = 6\n",
    "set_num_threads(nthreads)"
   ]
  },
  {
   "cell_type": "markdown",
   "metadata": {},
   "source": [
    "# Exercise 1: The Sun-Earth System\n",
    "\n",
    "The first test is to implment the Sun-Earth system, which is a two body system. We need to make sure that you could simulate a circular motion first."
   ]
  },
  {
   "cell_type": "markdown",
   "metadata": {},
   "source": [
    "## Step 1. The initial condition\n",
    "\n",
    "Copy the initial condition of the Earth-Sun system from `project2_demo1.ipynb`."
   ]
  },
  {
   "cell_type": "code",
   "execution_count": 4,
   "metadata": {},
   "outputs": [
    {
     "data": {
      "image/png": "[encoded data removed]",
      "text/plain": [
       "<Figure size 640x480 with 1 Axes>"
      ]
     },
     "metadata": {},
     "output_type": "display_data"
    }
   ],
   "source": [
    "# TODO:\n",
    "particles = Particles(N=2)\n",
    "sun_mass = 1.989e30 # kg\n",
    "earth_mass = 5.972e24 # kg\n",
    "separation = 1.496e11 # m\n",
    "period = 3.154e7 # s\n",
    "r_sun = separation * earth_mass / (sun_mass + earth_mass)\n",
    "r_earth = separation * sun_mass / (sun_mass + earth_mass)\n",
    "vy_sun = 2 * np.pi * r_sun / period\n",
    "vy_earth = 2 * np.pi * r_earth / period\n",
    "\n",
    "pts = Particles(N=2)\n",
    "pts.masses = np.array([[sun_mass], [earth_mass]])\n",
    "pts.positions = np.array([[-r_sun, 0, 0], [r_earth, 0, 0]])\n",
    "pts.velocities = np.array([[0, -vy_sun, 0], [0, vy_earth, 0]])\n",
    "pts.accelerations = np.zeros((2, 3))\n",
    "pts.tags = np.array([1, 2])\n",
    "\n",
    "# visualize the system\n",
    "plt.figure()\n",
    "plt.plot(pts.positions[1, 0], pts.positions[1, 1], 'o', label='Earth')\n",
    "plt.plot(pts.positions[0, 0], pts.positions[0, 1], 'o', label='Sun')\n",
    "plt.xlabel('x')\n",
    "plt.ylabel('y')\n",
    "plt.legend()\n",
    "plt.show()\n",
    "\n",
    "\n",
    "\n",
    "\n",
    "\n",
    "\n"
   ]
  },
  {
   "cell_type": "markdown",
   "metadata": {},
   "source": [
    "## Step 2. N-body simulation\n",
    "\n",
    "Make sure you have implmented the below two methods `setup()` and `evolve()`. Run the n-body simulation by:"
   ]
  },
  {
   "cell_type": "code",
   "execution_count": 5,
   "metadata": {},
   "outputs": [
    {
     "name": "stdout",
     "output_type": "stream",
     "text": [
      "step= 0 time= 0\n",
      "step= 30 time= 259200\n",
      "step= 60 time= 518400\n",
      "step= 90 time= 777600\n",
      "step= 120 time= 1036800\n",
      "step= 150 time= 1296000\n",
      "step= 180 time= 1555200\n",
      "step= 210 time= 1814400\n",
      "step= 240 time= 2073600\n",
      "step= 270 time= 2332800\n",
      "step= 300 time= 2592000\n",
      "step= 330 time= 2851200\n",
      "step= 360 time= 3110400\n",
      "step= 390 time= 3369600\n",
      "step= 420 time= 3628800\n",
      "step= 450 time= 3888000\n",
      "step= 480 time= 4147200\n",
      "step= 510 time= 4406400\n",
      "step= 540 time= 4665600\n",
      "step= 570 time= 4924800\n",
      "step= 600 time= 5184000\n",
      "step= 630 time= 5443200\n",
      "step= 660 time= 5702400\n",
      "step= 690 time= 5961600\n",
      "step= 720 time= 6220800\n",
      "step= 750 time= 6480000\n",
      "step= 780 time= 6739200\n",
      "step= 810 time= 6998400\n",
      "step= 840 time= 7257600\n",
      "step= 870 time= 7516800\n",
      "step= 900 time= 7776000\n",
      "step= 930 time= 8035200\n",
      "step= 960 time= 8294400\n",
      "step= 990 time= 8553600\n",
      "step= 1020 time= 8812800\n",
      "step= 1050 time= 9072000\n",
      "step= 1080 time= 9331200\n",
      "step= 1110 time= 9590400\n",
      "step= 1140 time= 9849600\n",
      "step= 1170 time= 10108800\n",
      "step= 1200 time= 10368000\n",
      "step= 1230 time= 10627200\n",
      "step= 1260 time= 10886400\n",
      "step= 1290 time= 11145600\n",
      "step= 1320 time= 11404800\n",
      "step= 1350 time= 11664000\n",
      "step= 1380 time= 11923200\n",
      "step= 1410 time= 12182400\n",
      "step= 1440 time= 12441600\n",
      "step= 1470 time= 12700800\n",
      "step= 1500 time= 12960000\n",
      "step= 1530 time= 13219200\n",
      "step= 1560 time= 13478400\n",
      "step= 1590 time= 13737600\n",
      "step= 1620 time= 13996800\n",
      "step= 1650 time= 14256000\n",
      "step= 1680 time= 14515200\n",
      "step= 1710 time= 14774400\n",
      "step= 1740 time= 15033600\n",
      "step= 1770 time= 15292800\n",
      "step= 1800 time= 15552000\n",
      "step= 1830 time= 15811200\n",
      "step= 1860 time= 16070400\n",
      "step= 1890 time= 16329600\n",
      "step= 1920 time= 16588800\n",
      "step= 1950 time= 16848000\n",
      "step= 1980 time= 17107200\n",
      "step= 2010 time= 17366400\n",
      "step= 2040 time= 17625600\n",
      "step= 2070 time= 17884800\n",
      "step= 2100 time= 18144000\n",
      "step= 2130 time= 18403200\n",
      "step= 2160 time= 18662400\n",
      "step= 2190 time= 18921600\n",
      "step= 2220 time= 19180800\n",
      "step= 2250 time= 19440000\n",
      "step= 2280 time= 19699200\n",
      "step= 2310 time= 19958400\n",
      "step= 2340 time= 20217600\n",
      "step= 2370 time= 20476800\n",
      "step= 2400 time= 20736000\n",
      "step= 2430 time= 20995200\n",
      "step= 2460 time= 21254400\n",
      "step= 2490 time= 21513600\n",
      "step= 2520 time= 21772800\n",
      "step= 2550 time= 22032000\n",
      "step= 2580 time= 22291200\n",
      "step= 2610 time= 22550400\n",
      "step= 2640 time= 22809600\n",
      "step= 2670 time= 23068800\n",
      "step= 2700 time= 23328000\n",
      "step= 2730 time= 23587200\n",
      "step= 2760 time= 23846400\n",
      "step= 2790 time= 24105600\n",
      "step= 2820 time= 24364800\n",
      "step= 2850 time= 24624000\n",
      "step= 2880 time= 24883200\n",
      "step= 2910 time= 25142400\n",
      "step= 2940 time= 25401600\n",
      "step= 2970 time= 25660800\n",
      "step= 3000 time= 25920000\n",
      "step= 3030 time= 26179200\n",
      "step= 3060 time= 26438400\n",
      "step= 3090 time= 26697600\n",
      "step= 3120 time= 26956800\n",
      "step= 3150 time= 27216000\n",
      "step= 3180 time= 27475200\n",
      "step= 3210 time= 27734400\n",
      "step= 3240 time= 27993600\n",
      "step= 3270 time= 28252800\n",
      "step= 3300 time= 28512000\n",
      "step= 3330 time= 28771200\n",
      "step= 3360 time= 29030400\n",
      "step= 3390 time= 29289600\n",
      "step= 3420 time= 29548800\n",
      "step= 3450 time= 29808000\n",
      "step= 3480 time= 30067200\n",
      "step= 3510 time= 30326400\n",
      "step= 3540 time= 30585600\n",
      "step= 3570 time= 30844800\n",
      "step= 3600 time= 31104000\n",
      "step= 3630 time= 31363200\n",
      "Simulation is done!\n"
     ]
    }
   ],
   "source": [
    "simulation = NBodySimulator(particles=particles)\n",
    "simulation.setup(G=6.674e-11,rsoft=1e9,method='RK4', io_freq=30)\n",
    "simulation.evolve(dt=8640, tmax=365*86400)"
   ]
  },
  {
   "cell_type": "markdown",
   "metadata": {},
   "source": [
    "## Step 3. Visualization\n",
    "\n",
    "Check the code in `./nobdy/visualization.py`.\n",
    "Data loader is implmented in the function `load_files`."
   ]
  },
  {
   "cell_type": "code",
   "execution_count": 6,
   "metadata": {},
   "outputs": [
    {
     "name": "stdout",
     "output_type": "stream",
     "text": [
      "['data_nbody\\\\nbody_000000.dat', 'data_nbody\\\\nbody_000030.dat', 'data_nbody\\\\nbody_000060.dat', 'data_nbody\\\\nbody_000090.dat', 'data_nbody\\\\nbody_000120.dat', 'data_nbody\\\\nbody_000150.dat', 'data_nbody\\\\nbody_000180.dat', 'data_nbody\\\\nbody_000210.dat', 'data_nbody\\\\nbody_000240.dat', 'data_nbody\\\\nbody_000270.dat', 'data_nbody\\\\nbody_000300.dat', 'data_nbody\\\\nbody_000330.dat', 'data_nbody\\\\nbody_000360.dat', 'data_nbody\\\\nbody_000390.dat', 'data_nbody\\\\nbody_000420.dat', 'data_nbody\\\\nbody_000450.dat', 'data_nbody\\\\nbody_000480.dat', 'data_nbody\\\\nbody_000510.dat', 'data_nbody\\\\nbody_000540.dat', 'data_nbody\\\\nbody_000570.dat', 'data_nbody\\\\nbody_000600.dat', 'data_nbody\\\\nbody_000630.dat', 'data_nbody\\\\nbody_000660.dat', 'data_nbody\\\\nbody_000690.dat', 'data_nbody\\\\nbody_000720.dat', 'data_nbody\\\\nbody_000750.dat', 'data_nbody\\\\nbody_000780.dat', 'data_nbody\\\\nbody_000810.dat', 'data_nbody\\\\nbody_000840.dat', 'data_nbody\\\\nbody_000870.dat', 'data_nbody\\\\nbody_000900.dat', 'data_nbody\\\\nbody_000930.dat', 'data_nbody\\\\nbody_000960.dat', 'data_nbody\\\\nbody_000990.dat', 'data_nbody\\\\nbody_001020.dat', 'data_nbody\\\\nbody_001050.dat', 'data_nbody\\\\nbody_001080.dat', 'data_nbody\\\\nbody_001110.dat', 'data_nbody\\\\nbody_001140.dat', 'data_nbody\\\\nbody_001170.dat', 'data_nbody\\\\nbody_001200.dat', 'data_nbody\\\\nbody_001230.dat', 'data_nbody\\\\nbody_001260.dat', 'data_nbody\\\\nbody_001290.dat', 'data_nbody\\\\nbody_001320.dat', 'data_nbody\\\\nbody_001350.dat', 'data_nbody\\\\nbody_001380.dat', 'data_nbody\\\\nbody_001410.dat', 'data_nbody\\\\nbody_001440.dat', 'data_nbody\\\\nbody_001470.dat', 'data_nbody\\\\nbody_001500.dat', 'data_nbody\\\\nbody_001530.dat', 'data_nbody\\\\nbody_001560.dat', 'data_nbody\\\\nbody_001590.dat', 'data_nbody\\\\nbody_001620.dat', 'data_nbody\\\\nbody_001650.dat', 'data_nbody\\\\nbody_001680.dat', 'data_nbody\\\\nbody_001710.dat', 'data_nbody\\\\nbody_001740.dat', 'data_nbody\\\\nbody_001770.dat', 'data_nbody\\\\nbody_001800.dat', 'data_nbody\\\\nbody_001830.dat', 'data_nbody\\\\nbody_001860.dat', 'data_nbody\\\\nbody_001890.dat', 'data_nbody\\\\nbody_001920.dat', 'data_nbody\\\\nbody_001950.dat', 'data_nbody\\\\nbody_001980.dat', 'data_nbody\\\\nbody_002010.dat', 'data_nbody\\\\nbody_002040.dat', 'data_nbody\\\\nbody_002070.dat', 'data_nbody\\\\nbody_002100.dat', 'data_nbody\\\\nbody_002130.dat', 'data_nbody\\\\nbody_002160.dat', 'data_nbody\\\\nbody_002190.dat', 'data_nbody\\\\nbody_002220.dat', 'data_nbody\\\\nbody_002250.dat', 'data_nbody\\\\nbody_002280.dat', 'data_nbody\\\\nbody_002310.dat', 'data_nbody\\\\nbody_002340.dat', 'data_nbody\\\\nbody_002370.dat', 'data_nbody\\\\nbody_002400.dat', 'data_nbody\\\\nbody_002430.dat', 'data_nbody\\\\nbody_002460.dat', 'data_nbody\\\\nbody_002490.dat', 'data_nbody\\\\nbody_002520.dat', 'data_nbody\\\\nbody_002550.dat', 'data_nbody\\\\nbody_002580.dat', 'data_nbody\\\\nbody_002610.dat', 'data_nbody\\\\nbody_002640.dat', 'data_nbody\\\\nbody_002670.dat', 'data_nbody\\\\nbody_002700.dat', 'data_nbody\\\\nbody_002730.dat', 'data_nbody\\\\nbody_002760.dat', 'data_nbody\\\\nbody_002790.dat', 'data_nbody\\\\nbody_002820.dat', 'data_nbody\\\\nbody_002850.dat', 'data_nbody\\\\nbody_002880.dat', 'data_nbody\\\\nbody_002910.dat', 'data_nbody\\\\nbody_002940.dat', 'data_nbody\\\\nbody_002970.dat', 'data_nbody\\\\nbody_003000.dat', 'data_nbody\\\\nbody_003030.dat', 'data_nbody\\\\nbody_003060.dat', 'data_nbody\\\\nbody_003090.dat', 'data_nbody\\\\nbody_003120.dat', 'data_nbody\\\\nbody_003150.dat', 'data_nbody\\\\nbody_003180.dat', 'data_nbody\\\\nbody_003210.dat', 'data_nbody\\\\nbody_003240.dat', 'data_nbody\\\\nbody_003270.dat', 'data_nbody\\\\nbody_003300.dat', 'data_nbody\\\\nbody_003330.dat', 'data_nbody\\\\nbody_003360.dat', 'data_nbody\\\\nbody_003390.dat', 'data_nbody\\\\nbody_003420.dat', 'data_nbody\\\\nbody_003450.dat', 'data_nbody\\\\nbody_003480.dat', 'data_nbody\\\\nbody_003510.dat', 'data_nbody\\\\nbody_003540.dat', 'data_nbody\\\\nbody_003570.dat', 'data_nbody\\\\nbody_003600.dat', 'data_nbody\\\\nbody_003630.dat']\n"
     ]
    }
   ],
   "source": [
    "fns = load_files('nbody')\n",
    "print(fns)"
   ]
  },
  {
   "cell_type": "markdown",
   "metadata": {},
   "source": [
    "Modify the matplotlib script "
   ]
  },
  {
   "cell_type": "code",
   "execution_count": 8,
   "metadata": {},
   "outputs": [
    {
     "name": "stderr",
     "output_type": "stream",
     "text": [
      "MovieWriter ffmpeg unavailable; using Pillow instead.\n"
     ]
    },
    {
     "ename": "IndexError",
     "evalue": "list index out of range",
     "output_type": "error",
     "traceback": [
      "\u001b[1;31m---------------------------------------------------------------------------\u001b[0m",
      "\u001b[1;31mValueError\u001b[0m                                Traceback (most recent call last)",
      "File \u001b[1;32mc:\\Users\\Asus\\AppData\\Local\\Programs\\Python\\Python312\\Lib\\site-packages\\matplotlib\\animation.py:243\u001b[0m, in \u001b[0;36mAbstractMovieWriter.saving\u001b[1;34m(self, fig, outfile, dpi, *args, **kwargs)\u001b[0m\n\u001b[0;32m    242\u001b[0m \u001b[38;5;28;01mtry\u001b[39;00m:\n\u001b[1;32m--> 243\u001b[0m     \u001b[38;5;28;01myield\u001b[39;00m \u001b[38;5;28mself\u001b[39m\n\u001b[0;32m    244\u001b[0m \u001b[38;5;28;01mfinally\u001b[39;00m:\n",
      "File \u001b[1;32mc:\\Users\\Asus\\AppData\\Local\\Programs\\Python\\Python312\\Lib\\site-packages\\matplotlib\\animation.py:1105\u001b[0m, in \u001b[0;36mAnimation.save\u001b[1;34m(self, filename, writer, fps, dpi, codec, bitrate, extra_args, metadata, extra_anim, savefig_kwargs, progress_callback)\u001b[0m\n\u001b[0;32m   1103\u001b[0m \u001b[38;5;28;01mfor\u001b[39;00m anim, d \u001b[38;5;129;01min\u001b[39;00m \u001b[38;5;28mzip\u001b[39m(all_anim, data):\n\u001b[0;32m   1104\u001b[0m     \u001b[38;5;66;03m# TODO: See if turning off blit is really necessary\u001b[39;00m\n\u001b[1;32m-> 1105\u001b[0m     \u001b[43manim\u001b[49m\u001b[38;5;241;43m.\u001b[39;49m\u001b[43m_draw_next_frame\u001b[49m\u001b[43m(\u001b[49m\u001b[43md\u001b[49m\u001b[43m,\u001b[49m\u001b[43m \u001b[49m\u001b[43mblit\u001b[49m\u001b[38;5;241;43m=\u001b[39;49m\u001b[38;5;28;43;01mFalse\u001b[39;49;00m\u001b[43m)\u001b[49m\n\u001b[0;32m   1106\u001b[0m     \u001b[38;5;28;01mif\u001b[39;00m progress_callback \u001b[38;5;129;01mis\u001b[39;00m \u001b[38;5;129;01mnot\u001b[39;00m \u001b[38;5;28;01mNone\u001b[39;00m:\n",
      "File \u001b[1;32mc:\\Users\\Asus\\AppData\\Local\\Programs\\Python\\Python312\\Lib\\site-packages\\matplotlib\\animation.py:1140\u001b[0m, in \u001b[0;36mAnimation._draw_next_frame\u001b[1;34m(self, framedata, blit)\u001b[0m\n\u001b[0;32m   1139\u001b[0m \u001b[38;5;28mself\u001b[39m\u001b[38;5;241m.\u001b[39m_pre_draw(framedata, blit)\n\u001b[1;32m-> 1140\u001b[0m \u001b[38;5;28;43mself\u001b[39;49m\u001b[38;5;241;43m.\u001b[39;49m\u001b[43m_draw_frame\u001b[49m\u001b[43m(\u001b[49m\u001b[43mframedata\u001b[49m\u001b[43m)\u001b[49m\n\u001b[0;32m   1141\u001b[0m \u001b[38;5;28mself\u001b[39m\u001b[38;5;241m.\u001b[39m_post_draw(framedata, blit)\n",
      "File \u001b[1;32mc:\\Users\\Asus\\AppData\\Local\\Programs\\Python\\Python312\\Lib\\site-packages\\matplotlib\\animation.py:1768\u001b[0m, in \u001b[0;36mFuncAnimation._draw_frame\u001b[1;34m(self, framedata)\u001b[0m\n\u001b[0;32m   1766\u001b[0m \u001b[38;5;66;03m# Call the func with framedata and args. If blitting is desired,\u001b[39;00m\n\u001b[0;32m   1767\u001b[0m \u001b[38;5;66;03m# func needs to return a sequence of any artists that were modified.\u001b[39;00m\n\u001b[1;32m-> 1768\u001b[0m \u001b[38;5;28mself\u001b[39m\u001b[38;5;241m.\u001b[39m_drawn_artists \u001b[38;5;241m=\u001b[39m \u001b[38;5;28;43mself\u001b[39;49m\u001b[38;5;241;43m.\u001b[39;49m\u001b[43m_func\u001b[49m\u001b[43m(\u001b[49m\u001b[43mframedata\u001b[49m\u001b[43m,\u001b[49m\u001b[43m \u001b[49m\u001b[38;5;241;43m*\u001b[39;49m\u001b[38;5;28;43mself\u001b[39;49m\u001b[38;5;241;43m.\u001b[39;49m\u001b[43m_args\u001b[49m\u001b[43m)\u001b[49m\n\u001b[0;32m   1770\u001b[0m \u001b[38;5;28;01mif\u001b[39;00m \u001b[38;5;28mself\u001b[39m\u001b[38;5;241m.\u001b[39m_blit:\n",
      "File \u001b[1;32mc:\\Users\\Asus\\Comphys_for_course\\computationalPhysics-112-1\\project2\\nbody\\visualization.py:42\u001b[0m, in \u001b[0;36msave_movie.<locals>.update\u001b[1;34m(frame)\u001b[0m\n\u001b[0;32m     41\u001b[0m fn \u001b[38;5;241m=\u001b[39m fns[frame]\n\u001b[1;32m---> 42\u001b[0m m,t,x,y,z,vx,vy,vz,ax,ay,az \u001b[38;5;241m=\u001b[39m np\u001b[38;5;241m.\u001b[39mloadtxt(fn)\n\u001b[0;32m     43\u001b[0m line\u001b[38;5;241m.\u001b[39mset_data(x, y)\n",
      "\u001b[1;31mValueError\u001b[0m: not enough values to unpack (expected 11, got 2)",
      "\nDuring handling of the above exception, another exception occurred:\n",
      "\u001b[1;31mIndexError\u001b[0m                                Traceback (most recent call last)",
      "Cell \u001b[1;32mIn[8], line 2\u001b[0m\n\u001b[0;32m      1\u001b[0m au \u001b[38;5;241m=\u001b[39m \u001b[38;5;241m1.496e11\u001b[39m\n\u001b[1;32m----> 2\u001b[0m \u001b[43msave_movie\u001b[49m\u001b[43m(\u001b[49m\u001b[43mfns\u001b[49m\u001b[43m,\u001b[49m\u001b[43m \u001b[49m\u001b[43mlengthscale\u001b[49m\u001b[38;5;241;43m=\u001b[39;49m\u001b[38;5;241;43m2\u001b[39;49m\u001b[38;5;241;43m*\u001b[39;49m\u001b[43mau\u001b[49m\u001b[43m,\u001b[49m\u001b[43mfilename\u001b[49m\u001b[38;5;241;43m=\u001b[39;49m\u001b[38;5;124;43m'\u001b[39;49m\u001b[38;5;124;43mnbody_earth_sun.gif\u001b[39;49m\u001b[38;5;124;43m'\u001b[39;49m\u001b[43m,\u001b[49m\u001b[43m \u001b[49m\u001b[43mfps\u001b[49m\u001b[38;5;241;43m=\u001b[39;49m\u001b[38;5;241;43m10\u001b[39;49m\u001b[43m)\u001b[49m\n",
      "File \u001b[1;32mc:\\Users\\Asus\\Comphys_for_course\\computationalPhysics-112-1\\project2\\nbody\\visualization.py:48\u001b[0m, in \u001b[0;36msave_movie\u001b[1;34m(fns, lengthscale, filename, fps)\u001b[0m\n\u001b[0;32m     45\u001b[0m     \u001b[38;5;28;01mreturn\u001b[39;00m line,\n\u001b[0;32m     47\u001b[0m ani \u001b[38;5;241m=\u001b[39m animation\u001b[38;5;241m.\u001b[39mFuncAnimation(fig, update, frames\u001b[38;5;241m=\u001b[39m\u001b[38;5;28mlen\u001b[39m(fns), init_func\u001b[38;5;241m=\u001b[39minit, blit\u001b[38;5;241m=\u001b[39m\u001b[38;5;28;01mTrue\u001b[39;00m)\n\u001b[1;32m---> 48\u001b[0m \u001b[43mani\u001b[49m\u001b[38;5;241;43m.\u001b[39;49m\u001b[43msave\u001b[49m\u001b[43m(\u001b[49m\u001b[43mfilename\u001b[49m\u001b[43m,\u001b[49m\u001b[43m \u001b[49m\u001b[43mwriter\u001b[49m\u001b[38;5;241;43m=\u001b[39;49m\u001b[38;5;124;43m'\u001b[39;49m\u001b[38;5;124;43mffmpeg\u001b[39;49m\u001b[38;5;124;43m'\u001b[39;49m\u001b[43m,\u001b[49m\u001b[43m \u001b[49m\u001b[43mfps\u001b[49m\u001b[38;5;241;43m=\u001b[39;49m\u001b[43mfps\u001b[49m\u001b[43m)\u001b[49m\n\u001b[0;32m     49\u001b[0m \u001b[38;5;28;01mreturn\u001b[39;00m\n",
      "File \u001b[1;32mc:\\Users\\Asus\\AppData\\Local\\Programs\\Python\\Python312\\Lib\\site-packages\\matplotlib\\animation.py:1089\u001b[0m, in \u001b[0;36mAnimation.save\u001b[1;34m(self, filename, writer, fps, dpi, codec, bitrate, extra_args, metadata, extra_anim, savefig_kwargs, progress_callback)\u001b[0m\n\u001b[0;32m   1085\u001b[0m savefig_kwargs[\u001b[38;5;124m'\u001b[39m\u001b[38;5;124mtransparent\u001b[39m\u001b[38;5;124m'\u001b[39m] \u001b[38;5;241m=\u001b[39m \u001b[38;5;28;01mFalse\u001b[39;00m   \u001b[38;5;66;03m# just to be safe!\u001b[39;00m\n\u001b[0;32m   1086\u001b[0m \u001b[38;5;66;03m# canvas._is_saving = True makes the draw_event animation-starting\u001b[39;00m\n\u001b[0;32m   1087\u001b[0m \u001b[38;5;66;03m# callback a no-op; canvas.manager = None prevents resizing the GUI\u001b[39;00m\n\u001b[0;32m   1088\u001b[0m \u001b[38;5;66;03m# widget (both are likewise done in savefig()).\u001b[39;00m\n\u001b[1;32m-> 1089\u001b[0m \u001b[43m\u001b[49m\u001b[38;5;28;43;01mwith\u001b[39;49;00m\u001b[43m \u001b[49m\u001b[43mwriter\u001b[49m\u001b[38;5;241;43m.\u001b[39;49m\u001b[43msaving\u001b[49m\u001b[43m(\u001b[49m\u001b[38;5;28;43mself\u001b[39;49m\u001b[38;5;241;43m.\u001b[39;49m\u001b[43m_fig\u001b[49m\u001b[43m,\u001b[49m\u001b[43m \u001b[49m\u001b[43mfilename\u001b[49m\u001b[43m,\u001b[49m\u001b[43m \u001b[49m\u001b[43mdpi\u001b[49m\u001b[43m)\u001b[49m\u001b[43m,\u001b[49m\u001b[43m \u001b[49m\u001b[43m\\\u001b[49m\n\u001b[0;32m   1090\u001b[0m \u001b[43m     \u001b[49m\u001b[43mcbook\u001b[49m\u001b[38;5;241;43m.\u001b[39;49m\u001b[43m_setattr_cm\u001b[49m\u001b[43m(\u001b[49m\u001b[38;5;28;43mself\u001b[39;49m\u001b[38;5;241;43m.\u001b[39;49m\u001b[43m_fig\u001b[49m\u001b[38;5;241;43m.\u001b[39;49m\u001b[43mcanvas\u001b[49m\u001b[43m,\u001b[49m\u001b[43m \u001b[49m\u001b[43m_is_saving\u001b[49m\u001b[38;5;241;43m=\u001b[39;49m\u001b[38;5;28;43;01mTrue\u001b[39;49;00m\u001b[43m,\u001b[49m\u001b[43m \u001b[49m\u001b[43mmanager\u001b[49m\u001b[38;5;241;43m=\u001b[39;49m\u001b[38;5;28;43;01mNone\u001b[39;49;00m\u001b[43m)\u001b[49m\u001b[43m:\u001b[49m\n\u001b[0;32m   1091\u001b[0m \u001b[43m    \u001b[49m\u001b[38;5;28;43;01mfor\u001b[39;49;00m\u001b[43m \u001b[49m\u001b[43manim\u001b[49m\u001b[43m \u001b[49m\u001b[38;5;129;43;01min\u001b[39;49;00m\u001b[43m \u001b[49m\u001b[43mall_anim\u001b[49m\u001b[43m:\u001b[49m\n\u001b[0;32m   1092\u001b[0m \u001b[43m        \u001b[49m\u001b[43manim\u001b[49m\u001b[38;5;241;43m.\u001b[39;49m\u001b[43m_init_draw\u001b[49m\u001b[43m(\u001b[49m\u001b[43m)\u001b[49m\u001b[43m  \u001b[49m\u001b[38;5;66;43;03m# Clear the initial frame\u001b[39;49;00m\n",
      "File \u001b[1;32mc:\\Users\\Asus\\AppData\\Local\\Programs\\Python\\Python312\\Lib\\contextlib.py:158\u001b[0m, in \u001b[0;36m_GeneratorContextManager.__exit__\u001b[1;34m(self, typ, value, traceback)\u001b[0m\n\u001b[0;32m    156\u001b[0m     value \u001b[38;5;241m=\u001b[39m typ()\n\u001b[0;32m    157\u001b[0m \u001b[38;5;28;01mtry\u001b[39;00m:\n\u001b[1;32m--> 158\u001b[0m     \u001b[38;5;28;43mself\u001b[39;49m\u001b[38;5;241;43m.\u001b[39;49m\u001b[43mgen\u001b[49m\u001b[38;5;241;43m.\u001b[39;49m\u001b[43mthrow\u001b[49m\u001b[43m(\u001b[49m\u001b[43mvalue\u001b[49m\u001b[43m)\u001b[49m\n\u001b[0;32m    159\u001b[0m \u001b[38;5;28;01mexcept\u001b[39;00m \u001b[38;5;167;01mStopIteration\u001b[39;00m \u001b[38;5;28;01mas\u001b[39;00m exc:\n\u001b[0;32m    160\u001b[0m     \u001b[38;5;66;03m# Suppress StopIteration *unless* it's the same exception that\u001b[39;00m\n\u001b[0;32m    161\u001b[0m     \u001b[38;5;66;03m# was passed to throw().  This prevents a StopIteration\u001b[39;00m\n\u001b[0;32m    162\u001b[0m     \u001b[38;5;66;03m# raised inside the \"with\" statement from being suppressed.\u001b[39;00m\n\u001b[0;32m    163\u001b[0m     \u001b[38;5;28;01mreturn\u001b[39;00m exc \u001b[38;5;129;01mis\u001b[39;00m \u001b[38;5;129;01mnot\u001b[39;00m value\n",
      "File \u001b[1;32mc:\\Users\\Asus\\AppData\\Local\\Programs\\Python\\Python312\\Lib\\site-packages\\matplotlib\\animation.py:245\u001b[0m, in \u001b[0;36mAbstractMovieWriter.saving\u001b[1;34m(self, fig, outfile, dpi, *args, **kwargs)\u001b[0m\n\u001b[0;32m    243\u001b[0m     \u001b[38;5;28;01myield\u001b[39;00m \u001b[38;5;28mself\u001b[39m\n\u001b[0;32m    244\u001b[0m \u001b[38;5;28;01mfinally\u001b[39;00m:\n\u001b[1;32m--> 245\u001b[0m     \u001b[38;5;28;43mself\u001b[39;49m\u001b[38;5;241;43m.\u001b[39;49m\u001b[43mfinish\u001b[49m\u001b[43m(\u001b[49m\u001b[43m)\u001b[49m\n",
      "File \u001b[1;32mc:\\Users\\Asus\\AppData\\Local\\Programs\\Python\\Python312\\Lib\\site-packages\\matplotlib\\animation.py:515\u001b[0m, in \u001b[0;36mPillowWriter.finish\u001b[1;34m(self)\u001b[0m\n\u001b[0;32m    514\u001b[0m \u001b[38;5;28;01mdef\u001b[39;00m \u001b[38;5;21mfinish\u001b[39m(\u001b[38;5;28mself\u001b[39m):\n\u001b[1;32m--> 515\u001b[0m     \u001b[38;5;28;43mself\u001b[39;49m\u001b[38;5;241;43m.\u001b[39;49m\u001b[43m_frames\u001b[49m\u001b[43m[\u001b[49m\u001b[38;5;241;43m0\u001b[39;49m\u001b[43m]\u001b[49m\u001b[38;5;241m.\u001b[39msave(\n\u001b[0;32m    516\u001b[0m         \u001b[38;5;28mself\u001b[39m\u001b[38;5;241m.\u001b[39moutfile, save_all\u001b[38;5;241m=\u001b[39m\u001b[38;5;28;01mTrue\u001b[39;00m, append_images\u001b[38;5;241m=\u001b[39m\u001b[38;5;28mself\u001b[39m\u001b[38;5;241m.\u001b[39m_frames[\u001b[38;5;241m1\u001b[39m:],\n\u001b[0;32m    517\u001b[0m         duration\u001b[38;5;241m=\u001b[39m\u001b[38;5;28mint\u001b[39m(\u001b[38;5;241m1000\u001b[39m \u001b[38;5;241m/\u001b[39m \u001b[38;5;28mself\u001b[39m\u001b[38;5;241m.\u001b[39mfps), loop\u001b[38;5;241m=\u001b[39m\u001b[38;5;241m0\u001b[39m)\n",
      "\u001b[1;31mIndexError\u001b[0m: list index out of range"
     ]
    },
    {
     "data": {
      "image/png": "[encoded data removed]",
      "text/plain": [
       "<Figure size 720x720 with 1 Axes>"
      ]
     },
     "metadata": {},
     "output_type": "display_data"
    }
   ],
   "source": [
    "au = 1.496e11\n",
    "save_movie(fns, lengthscale=2*au,filename='nbody_earth_sun.gif', fps=10)"
   ]
  },
  {
   "cell_type": "markdown",
   "metadata": {},
   "source": [
    "# Exercise 2: N-Body simulation\n",
    "\n",
    "Now, let's test our n-body solver with more particles. Copy the initial condition from the Exercise 2 in `project2_demo1.ipynb`."
   ]
  },
  {
   "cell_type": "code",
   "execution_count": null,
   "metadata": {},
   "outputs": [],
   "source": [
    "# TODO\n",
    "\n",
    "\n",
    "\n",
    "\n",
    "\n",
    "\n",
    "\n",
    "\n"
   ]
  },
  {
   "cell_type": "markdown",
   "metadata": {},
   "source": [
    "## Step 2. Simulation.\n",
    "\n",
    "Visualize the system but use dimensionless units. Set `G=1` and `rsoft=0.001`."
   ]
  },
  {
   "cell_type": "code",
   "execution_count": null,
   "metadata": {},
   "outputs": [],
   "source": [
    "simulation = NBodySimulator(particles=pts)\n",
    "simulation.setup(G=1,rsoft=0.001,method='RK4', io_freq=10, io_header='cluster')\n",
    "simulation.evolve(dt=0.01, tmax=1)"
   ]
  },
  {
   "cell_type": "markdown",
   "metadata": {},
   "source": [
    "It is VERY slow !!!!\n",
    "\n",
    "Beacuse the accerlation calculations requires order of NxN calculations!\n",
    "Could we improve it?\n",
    "\n",
    "First, we should avoid the two \"for\" loops in the calculation using python.\\\n",
    "Second, we have many cup cores in our machine. Could we parallelize it?"
   ]
  },
  {
   "cell_type": "markdown",
   "metadata": {},
   "source": [
    "# `numba`\n",
    "\n",
    "Step 1. Take out the function to calculate the accerlation from the class into a pure function that only counts math calculations (aka. a kernel).\n",
    "\n",
    "Step 2. Use the `numba`'s `@jit` micro. \n",
    "\n",
    "Results: In my experiments. I got roughly x140 speed up with the @jit(nopython=True). \n",
    "\n",
    "Step 3. Try using `@njit` and `prange` in numba."
   ]
  },
  {
   "cell_type": "markdown",
   "metadata": {},
   "source": [
    "## Performance\n",
    "\n",
    "### Strong Scaling Test\n",
    "\n",
    "**Strong scaling**: The number of processors is increased while the problem size remains constant.\\\n",
    "We could use `%timeit` to measure the performance. Let's run 1000 particles for 10 step."
   ]
  },
  {
   "cell_type": "code",
   "execution_count": null,
   "metadata": {},
   "outputs": [],
   "source": [
    "num_particles = 1000\n",
    "pts = Particles(N=num_particles)\n",
    "pts.masses = np.ones((num_particles, 1))* 10/num_particles\n",
    "pts.positions = np.random.randn(num_particles, 3)\n",
    "pts.velocities = np.random.randn(num_particles, 3)\n",
    "pts.accelerations = np.zeros((num_particles, 3))\n",
    "\n",
    "simulation = NBodySimulator(particles=pts)\n",
    "simulation.setup(G=1,rsoft=0.001,method='RK4', io_screen=False, io_freq=0, io_header='cluster')\n",
    "#simulation.evolve(dt=0.02, tmax=1)"
   ]
  },
  {
   "cell_type": "code",
   "execution_count": null,
   "metadata": {},
   "outputs": [],
   "source": [
    "%timeit simulation.evolve(dt=0.02, tmax=0.2)"
   ]
  },
  {
   "cell_type": "markdown",
   "metadata": {},
   "source": [
    "**Kuo-Chuan's measurements**\n",
    "\n",
    "CPU: 3 GHz 10-Core Intel Xeon W\n",
    "\n",
    "1000 particles. 10 steps.\n",
    "\n",
    "without `numba`: 5min 31s ± 2 s per loop (mean ± std. dev. of 7 runs, 1 loop each)\n",
    "with `numba`:\n",
    "* 1 core (`jit`): 17.7 s ± 328 ms per loop (mean ± std. dev. of 7 runs, 1 loop each)\n",
    "* 1 core (`njit`): 10.4 s ± 337 ms per loop (mean ± std. dev. of 7 runs, 1 loop each)\n",
    "* 2 cores: 7.61 s ± 52.8 ms per loop (mean ± std. dev. of 7 runs, 1 loop each)\n",
    "* 6 cores: 3.35 s ± 50.9 ms per loop (mean ± std. dev. of 7 runs, 1 loop each)\n",
    "* 10 cores: 2.12 s ± 16.2 ms per loop (mean ± std. dev. of 7 runs, 1 loop each)\n",
    "* 12 cores: 1.95 s ± 36.1 ms per loop (mean ± std. dev. of 7 runs, 1 loop each)\n",
    "* 16 cores: 1.64 s ± 46 ms per loop (mean ± std. dev. of 7 runs, 1 loop each)\n",
    "* 20 cores: 1.49 s ± 55.1 ms per loop (mean ± std. dev. of 7 runs, 1 loop each)"
   ]
  },
  {
   "cell_type": "code",
   "execution_count": null,
   "metadata": {},
   "outputs": [],
   "source": [
    "threads = [1,2,6,10,12,16,20]                     # Replace it to your measured values\n",
    "times = [10.4, 7.61, 3.35, 2.12, 1.95, 1.64,1.49] # Replace it to your measured values\n",
    "ideal = times[0]/np.array(threads)\n",
    "plt.loglog(threads, times)\n",
    "plt.loglog(threads, ideal, '--')\n",
    "plt.xlabel('Number of threads')\n",
    "plt.ylabel('Time for 10 iterations (s)')\n",
    "plt.legend(['Measured', 'Ideal'])\n",
    "plt.title('Strong scaling')\n",
    "plt.show()"
   ]
  },
  {
   "cell_type": "markdown",
   "metadata": {},
   "source": [
    "## Weak Scaling Test\n",
    "\n",
    "In N-body simulation, the problem size is proportional to $N^2$.\\\n",
    "**Weaking scaling** test measures the scaling with the same problem size per thread (core)."
   ]
  },
  {
   "cell_type": "code",
   "execution_count": null,
   "metadata": {},
   "outputs": [],
   "source": [
    "num_particles = int(225*np.sqrt(nthreads))\n",
    "print(\"N =\", num_particles, \", threads = \", nthreads)\n",
    "pts = Particles(N=num_particles)\n",
    "pts.masses = np.ones((num_particles, 1))* 10/num_particles\n",
    "pts.positions = np.random.randn(num_particles, 3)\n",
    "pts.velocities = np.random.randn(num_particles, 3)\n",
    "pts.accelerations = np.zeros((num_particles, 3))\n",
    "\n",
    "simulation = NBodySimulator(particles=pts)\n",
    "simulation.setup(G=1,rsoft=0.001,method='RK4', io_screen=False, io_freq=0, io_header='cluster')"
   ]
  },
  {
   "cell_type": "code",
   "execution_count": null,
   "metadata": {},
   "outputs": [],
   "source": [
    "%timeit simulation.evolve(dt=0.02, tmax=0.2)"
   ]
  },
  {
   "cell_type": "markdown",
   "metadata": {},
   "source": [
    "Kuo-Chuan's measurements\n",
    "\n",
    "* N = 225 threads =  1: 537 ms ± 13.9 ms per loop (mean ± std. dev. of 7 runs, 1 loop each)\n",
    "* N = 450 threads =  4: 981 ms ± 17.3 ms per loop (mean ± std. dev. of 7 runs, 1 loop each)\n",
    "* N = 636 threads =  8: 1.07 s ± 22.3 ms per loop (mean ± std. dev. of 7 runs, 1 loop each)\n",
    "* N = 779 threads =  12: 1.17 s ± 33.7 ms per loop (mean ± std. dev. of 7 runs, 1 loop each)\n",
    "* N = 900 threads =  16: 1.29 s ± 6.85 ms per loop (mean ± std. dev. of 7 runs, 1 loop each)\n",
    "* N = 1006 threads =  20: 1.51 s ± 35.3 ms per loop (mean ± std. dev. of 7 runs, 1 loop each)"
   ]
  },
  {
   "cell_type": "code",
   "execution_count": null,
   "metadata": {},
   "outputs": [],
   "source": [
    "threads = [1,4,8,12,16,20]                     # Replace it to your measured values\n",
    "times = [0.537, 0.981, 1.07, 1.17, 1.29, 1.51] # Replace it to your measured values\n",
    "ideal = 0.981 * np.ones(len(threads))\n",
    "plt.plot(threads, times)\n",
    "plt.plot(threads, ideal, '--')\n",
    "plt.xlabel('Number of threads')\n",
    "plt.ylabel('Time for 10 iterations (s)')\n",
    "plt.legend(['Measured', 'Ideal'])\n",
    "plt.title('Weak scaling')\n",
    "plt.show()"
   ]
  }
 ],
 "metadata": {
  "kernelspec": {
   "display_name": "comphys-112",
   "language": "python",
   "name": "python3"
  },
  "language_info": {
   "codemirror_mode": {
    "name": "ipython",
    "version": 3
   },
   "file_extension": ".py",
   "mimetype": "text/x-python",
   "name": "python",
   "nbconvert_exporter": "python",
   "pygments_lexer": "ipython3",
   "version": "3.12.1"
  }
 },
 "nbformat": 4,
 "nbformat_minor": 2
}
