{
 "cells": [
  {
   "cell_type": "code",
   "execution_count": 1,
   "metadata": {},
   "outputs": [],
   "source": [
    "import numpy as np\n",
    "import matplotlib.pyplot as plt\n",
    "from nbody import Particles, NBodySimulator\n",
    "from nbody import load_files, save_movie\n",
    "from numba import set_num_threads"
   ]
  },
  {
   "cell_type": "code",
   "execution_count": 2,
   "metadata": {},
   "outputs": [],
   "source": [
    "# Uncomment the following line to install required packages if needed\n",
    "\n",
    "#!conda install -y -c conda-forge ffmpeg, glob, numba"
   ]
  },
  {
   "cell_type": "markdown",
   "metadata": {},
   "source": [
    "# N-Body Simulation\n",
    "\n",
    "In this notebook, we will test the `NBodySimulator` class in `./nbody/simulator.py`. "
   ]
  },
  {
   "cell_type": "code",
   "execution_count": 2,
   "metadata": {},
   "outputs": [],
   "source": [
    "# Set the number of threads to use for numba\n",
    "nthreads = 6\n",
    "set_num_threads(nthreads)"
   ]
  },
  {
   "cell_type": "markdown",
   "metadata": {},
   "source": [
    "# Exercise 1: The Sun-Earth System\n",
    "\n",
    "The first test is to implment the Sun-Earth system, which is a two body system. We need to make sure that you could simulate a circular motion first."
   ]
  },
  {
   "cell_type": "markdown",
   "metadata": {},
   "source": [
    "## Step 1. The initial condition\n",
    "\n",
    "Copy the initial condition of the Earth-Sun system from `project2_demo1.ipynb`."
   ]
  },
  {
   "cell_type": "code",
   "execution_count": 3,
   "metadata": {},
   "outputs": [
    {
     "data": {
      "image/png": "[encoded data removed]",
      "text/plain": [
       "<Figure size 640x480 with 1 Axes>"
      ]
     },
     "metadata": {},
     "output_type": "display_data"
    }
   ],
   "source": [
    "# TODO:\n",
    "particles = Particles(N=2)\n",
    "sun_mass = 1.989e30 # kg\n",
    "earth_mass = 5.972e24 # kg\n",
    "separation = 1.496e11 # m\n",
    "period = 3.154e7 # s\n",
    "r_sun = separation * earth_mass / (sun_mass + earth_mass)\n",
    "r_earth = separation * sun_mass / (sun_mass + earth_mass)\n",
    "vy_sun = 2 * np.pi * r_sun / period\n",
    "vy_earth = 2 * np.pi * r_earth / period\n",
    "\n",
    "pts = Particles(N=2)\n",
    "pts.masses = np.array([[sun_mass], [earth_mass]])\n",
    "pts.positions = np.array([[-r_sun, 0, 0], [r_earth, 0, 0]])\n",
    "pts.velocities = np.array([[0, -vy_sun, 0], [0, vy_earth, 0]])\n",
    "pts.accelerations = np.zeros((2, 3))\n",
    "pts.tags = np.array([1, 2])\n",
    "\n",
    "# visualize the system\n",
    "plt.figure()\n",
    "plt.plot(pts.positions[1, 0], pts.positions[1, 1], 'o', label='Earth')\n",
    "plt.plot(pts.positions[0, 0], pts.positions[0, 1], 'o', label='Sun')\n",
    "plt.xlabel('x')\n",
    "plt.ylabel('y')\n",
    "plt.legend()\n",
    "plt.show()\n",
    "\n",
    "\n",
    "\n",
    "\n",
    "\n",
    "\n"
   ]
  },
  {
   "cell_type": "markdown",
   "metadata": {},
   "source": [
    "## Step 2. N-body simulation\n",
    "\n",
    "Make sure you have implmented the below two methods `setup()` and `evolve()`. Run the n-body simulation by:"
   ]
  },
  {
   "cell_type": "code",
   "execution_count": 4,
   "metadata": {},
   "outputs": [
    {
     "name": "stdout",
     "output_type": "stream",
     "text": [
      "step= 0 time= 0\n",
      "step= 30 time= 259200\n",
      "step= 60 time= 518400\n",
      "step= 90 time= 777600\n",
      "step= 120 time= 1036800\n",
      "step= 150 time= 1296000\n",
      "step= 180 time= 1555200\n",
      "step= 210 time= 1814400\n",
      "step= 240 time= 2073600\n",
      "step= 270 time= 2332800\n",
      "step= 300 time= 2592000\n",
      "step= 330 time= 2851200\n",
      "step= 360 time= 3110400\n",
      "step= 390 time= 3369600\n",
      "step= 420 time= 3628800\n",
      "step= 450 time= 3888000\n",
      "step= 480 time= 4147200\n",
      "step= 510 time= 4406400\n",
      "step= 540 time= 4665600\n",
      "step= 570 time= 4924800\n",
      "step= 600 time= 5184000\n",
      "step= 630 time= 5443200\n",
      "step= 660 time= 5702400\n",
      "step= 690 time= 5961600\n",
      "step= 720 time= 6220800\n",
      "step= 750 time= 6480000\n",
      "step= 780 time= 6739200\n",
      "step= 810 time= 6998400\n",
      "step= 840 time= 7257600\n",
      "step= 870 time= 7516800\n",
      "step= 900 time= 7776000\n",
      "step= 930 time= 8035200\n",
      "step= 960 time= 8294400\n",
      "step= 990 time= 8553600\n",
      "step= 1020 time= 8812800\n",
      "step= 1050 time= 9072000\n",
      "step= 1080 time= 9331200\n",
      "step= 1110 time= 9590400\n",
      "step= 1140 time= 9849600\n",
      "step= 1170 time= 10108800\n",
      "step= 1200 time= 10368000\n",
      "step= 1230 time= 10627200\n",
      "step= 1260 time= 10886400\n",
      "step= 1290 time= 11145600\n",
      "step= 1320 time= 11404800\n",
      "step= 1350 time= 11664000\n",
      "step= 1380 time= 11923200\n",
      "step= 1410 time= 12182400\n",
      "step= 1440 time= 12441600\n",
      "step= 1470 time= 12700800\n",
      "step= 1500 time= 12960000\n",
      "step= 1530 time= 13219200\n",
      "step= 1560 time= 13478400\n",
      "step= 1590 time= 13737600\n",
      "step= 1620 time= 13996800\n",
      "step= 1650 time= 14256000\n",
      "step= 1680 time= 14515200\n",
      "step= 1710 time= 14774400\n",
      "step= 1740 time= 15033600\n",
      "step= 1770 time= 15292800\n",
      "step= 1800 time= 15552000\n",
      "step= 1830 time= 15811200\n",
      "step= 1860 time= 16070400\n",
      "step= 1890 time= 16329600\n",
      "step= 1920 time= 16588800\n",
      "step= 1950 time= 16848000\n",
      "step= 1980 time= 17107200\n",
      "step= 2010 time= 17366400\n",
      "step= 2040 time= 17625600\n",
      "step= 2070 time= 17884800\n",
      "step= 2100 time= 18144000\n",
      "step= 2130 time= 18403200\n",
      "step= 2160 time= 18662400\n",
      "step= 2190 time= 18921600\n",
      "step= 2220 time= 19180800\n",
      "step= 2250 time= 19440000\n",
      "step= 2280 time= 19699200\n",
      "step= 2310 time= 19958400\n",
      "step= 2340 time= 20217600\n",
      "step= 2370 time= 20476800\n",
      "step= 2400 time= 20736000\n",
      "step= 2430 time= 20995200\n",
      "step= 2460 time= 21254400\n",
      "step= 2490 time= 21513600\n",
      "step= 2520 time= 21772800\n",
      "step= 2550 time= 22032000\n",
      "step= 2580 time= 22291200\n",
      "step= 2610 time= 22550400\n",
      "step= 2640 time= 22809600\n",
      "step= 2670 time= 23068800\n",
      "step= 2700 time= 23328000\n",
      "step= 2730 time= 23587200\n",
      "step= 2760 time= 23846400\n",
      "step= 2790 time= 24105600\n",
      "step= 2820 time= 24364800\n",
      "step= 2850 time= 24624000\n",
      "step= 2880 time= 24883200\n",
      "step= 2910 time= 25142400\n",
      "step= 2940 time= 25401600\n",
      "step= 2970 time= 25660800\n",
      "step= 3000 time= 25920000\n",
      "step= 3030 time= 26179200\n",
      "step= 3060 time= 26438400\n",
      "step= 3090 time= 26697600\n",
      "step= 3120 time= 26956800\n",
      "step= 3150 time= 27216000\n",
      "step= 3180 time= 27475200\n",
      "step= 3210 time= 27734400\n",
      "step= 3240 time= 27993600\n",
      "step= 3270 time= 28252800\n",
      "step= 3300 time= 28512000\n",
      "step= 3330 time= 28771200\n",
      "step= 3360 time= 29030400\n",
      "step= 3390 time= 29289600\n",
      "step= 3420 time= 29548800\n",
      "step= 3450 time= 29808000\n",
      "step= 3480 time= 30067200\n",
      "step= 3510 time= 30326400\n",
      "step= 3540 time= 30585600\n",
      "step= 3570 time= 30844800\n",
      "step= 3600 time= 31104000\n",
      "step= 3630 time= 31363200\n",
      "Simulation is done!\n"
     ]
    }
   ],
   "source": [
    "simulation = NBodySimulator(particles=particles)\n",
    "simulation.setup(G=6.674e-11,rsoft=1e9,method='RK4', io_freq=30)\n",
    "simulation.evolve(dt=8640, tmax=365*86400)"
   ]
  },
  {
   "cell_type": "markdown",
   "metadata": {},
   "source": [
    "## Step 3. Visualization\n",
    "\n",
    "Check the code in `./nobdy/visualization.py`.\n",
    "Data loader is implmented in the function `load_files`."
   ]
  },
  {
   "cell_type": "code",
   "execution_count": null,
   "metadata": {},
   "outputs": [],
   "source": [
    "fns = load_files('nbody')\n",
    "print(fns)"
   ]
  },
  {
   "cell_type": "markdown",
   "metadata": {},
   "source": [
    "Modify the matplotlib script "
   ]
  },
  {
   "cell_type": "code",
   "execution_count": null,
   "metadata": {},
   "outputs": [],
   "source": [
    "au = 1.496e11\n",
    "save_movie(fns, lengthscale=2*au,filename='nbody_earth_sun.mp4', fps=10)"
   ]
  },
  {
   "cell_type": "markdown",
   "metadata": {},
   "source": [
    "# Exercise 2: N-Body simulation\n",
    "\n",
    "Now, let's test our n-body solver with more particles. Copy the initial condition from the Exercise 2 in `project2_demo1.ipynb`."
   ]
  },
  {
   "cell_type": "code",
   "execution_count": null,
   "metadata": {},
   "outputs": [],
   "source": [
    "# TODO\n",
    "\n",
    "\n",
    "\n",
    "\n",
    "\n",
    "\n",
    "\n",
    "\n"
   ]
  },
  {
   "cell_type": "markdown",
   "metadata": {},
   "source": [
    "## Step 2. Simulation.\n",
    "\n",
    "Visualize the system but use dimensionless units. Set `G=1` and `rsoft=0.001`."
   ]
  },
  {
   "cell_type": "code",
   "execution_count": null,
   "metadata": {},
   "outputs": [],
   "source": [
    "simulation = NBodySimulator(particles=pts)\n",
    "simulation.setup(G=1,rsoft=0.001,method='RK4', io_freq=10, io_header='cluster')\n",
    "simulation.evolve(dt=0.01, tmax=1)"
   ]
  },
  {
   "cell_type": "markdown",
   "metadata": {},
   "source": [
    "It is VERY slow !!!!\n",
    "\n",
    "Beacuse the accerlation calculations requires order of NxN calculations!\n",
    "Could we improve it?\n",
    "\n",
    "First, we should avoid the two \"for\" loops in the calculation using python.\\\n",
    "Second, we have many cup cores in our machine. Could we parallelize it?"
   ]
  },
  {
   "cell_type": "markdown",
   "metadata": {},
   "source": [
    "# `numba`\n",
    "\n",
    "Step 1. Take out the function to calculate the accerlation from the class into a pure function that only counts math calculations (aka. a kernel).\n",
    "\n",
    "Step 2. Use the `numba`'s `@jit` micro. \n",
    "\n",
    "Results: In my experiments. I got roughly x140 speed up with the @jit(nopython=True). \n",
    "\n",
    "Step 3. Try using `@njit` and `prange` in numba."
   ]
  },
  {
   "cell_type": "markdown",
   "metadata": {},
   "source": [
    "## Performance\n",
    "\n",
    "### Strong Scaling Test\n",
    "\n",
    "**Strong scaling**: The number of processors is increased while the problem size remains constant.\\\n",
    "We could use `%timeit` to measure the performance. Let's run 1000 particles for 10 step."
   ]
  },
  {
   "cell_type": "code",
   "execution_count": null,
   "metadata": {},
   "outputs": [],
   "source": [
    "num_particles = 1000\n",
    "pts = Particles(N=num_particles)\n",
    "pts.masses = np.ones((num_particles, 1))* 10/num_particles\n",
    "pts.positions = np.random.randn(num_particles, 3)\n",
    "pts.velocities = np.random.randn(num_particles, 3)\n",
    "pts.accelerations = np.zeros((num_particles, 3))\n",
    "\n",
    "simulation = NBodySimulator(particles=pts)\n",
    "simulation.setup(G=1,rsoft=0.001,method='RK4', io_screen=False, io_freq=0, io_header='cluster')\n",
    "#simulation.evolve(dt=0.02, tmax=1)"
   ]
  },
  {
   "cell_type": "code",
   "execution_count": null,
   "metadata": {},
   "outputs": [],
   "source": [
    "%timeit simulation.evolve(dt=0.02, tmax=0.2)"
   ]
  },
  {
   "cell_type": "markdown",
   "metadata": {},
   "source": [
    "**Kuo-Chuan's measurements**\n",
    "\n",
    "CPU: 3 GHz 10-Core Intel Xeon W\n",
    "\n",
    "1000 particles. 10 steps.\n",
    "\n",
    "without `numba`: 5min 31s ± 2 s per loop (mean ± std. dev. of 7 runs, 1 loop each)\n",
    "with `numba`:\n",
    "* 1 core (`jit`): 17.7 s ± 328 ms per loop (mean ± std. dev. of 7 runs, 1 loop each)\n",
    "* 1 core (`njit`): 10.4 s ± 337 ms per loop (mean ± std. dev. of 7 runs, 1 loop each)\n",
    "* 2 cores: 7.61 s ± 52.8 ms per loop (mean ± std. dev. of 7 runs, 1 loop each)\n",
    "* 6 cores: 3.35 s ± 50.9 ms per loop (mean ± std. dev. of 7 runs, 1 loop each)\n",
    "* 10 cores: 2.12 s ± 16.2 ms per loop (mean ± std. dev. of 7 runs, 1 loop each)\n",
    "* 12 cores: 1.95 s ± 36.1 ms per loop (mean ± std. dev. of 7 runs, 1 loop each)\n",
    "* 16 cores: 1.64 s ± 46 ms per loop (mean ± std. dev. of 7 runs, 1 loop each)\n",
    "* 20 cores: 1.49 s ± 55.1 ms per loop (mean ± std. dev. of 7 runs, 1 loop each)"
   ]
  },
  {
   "cell_type": "code",
   "execution_count": null,
   "metadata": {},
   "outputs": [],
   "source": [
    "threads = [1,2,6,10,12,16,20]                     # Replace it to your measured values\n",
    "times = [10.4, 7.61, 3.35, 2.12, 1.95, 1.64,1.49] # Replace it to your measured values\n",
    "ideal = times[0]/np.array(threads)\n",
    "plt.loglog(threads, times)\n",
    "plt.loglog(threads, ideal, '--')\n",
    "plt.xlabel('Number of threads')\n",
    "plt.ylabel('Time for 10 iterations (s)')\n",
    "plt.legend(['Measured', 'Ideal'])\n",
    "plt.title('Strong scaling')\n",
    "plt.show()"
   ]
  },
  {
   "cell_type": "markdown",
   "metadata": {},
   "source": [
    "## Weak Scaling Test\n",
    "\n",
    "In N-body simulation, the problem size is proportional to $N^2$.\\\n",
    "**Weaking scaling** test measures the scaling with the same problem size per thread (core)."
   ]
  },
  {
   "cell_type": "code",
   "execution_count": null,
   "metadata": {},
   "outputs": [],
   "source": [
    "num_particles = int(225*np.sqrt(nthreads))\n",
    "print(\"N =\", num_particles, \", threads = \", nthreads)\n",
    "pts = Particles(N=num_particles)\n",
    "pts.masses = np.ones((num_particles, 1))* 10/num_particles\n",
    "pts.positions = np.random.randn(num_particles, 3)\n",
    "pts.velocities = np.random.randn(num_particles, 3)\n",
    "pts.accelerations = np.zeros((num_particles, 3))\n",
    "\n",
    "simulation = NBodySimulator(particles=pts)\n",
    "simulation.setup(G=1,rsoft=0.001,method='RK4', io_screen=False, io_freq=0, io_header='cluster')"
   ]
  },
  {
   "cell_type": "code",
   "execution_count": null,
   "metadata": {},
   "outputs": [],
   "source": [
    "%timeit simulation.evolve(dt=0.02, tmax=0.2)"
   ]
  },
  {
   "cell_type": "markdown",
   "metadata": {},
   "source": [
    "Kuo-Chuan's measurements\n",
    "\n",
    "* N = 225 threads =  1: 537 ms ± 13.9 ms per loop (mean ± std. dev. of 7 runs, 1 loop each)\n",
    "* N = 450 threads =  4: 981 ms ± 17.3 ms per loop (mean ± std. dev. of 7 runs, 1 loop each)\n",
    "* N = 636 threads =  8: 1.07 s ± 22.3 ms per loop (mean ± std. dev. of 7 runs, 1 loop each)\n",
    "* N = 779 threads =  12: 1.17 s ± 33.7 ms per loop (mean ± std. dev. of 7 runs, 1 loop each)\n",
    "* N = 900 threads =  16: 1.29 s ± 6.85 ms per loop (mean ± std. dev. of 7 runs, 1 loop each)\n",
    "* N = 1006 threads =  20: 1.51 s ± 35.3 ms per loop (mean ± std. dev. of 7 runs, 1 loop each)"
   ]
  },
  {
   "cell_type": "code",
   "execution_count": null,
   "metadata": {},
   "outputs": [],
   "source": [
    "threads = [1,4,8,12,16,20]                     # Replace it to your measured values\n",
    "times = [0.537, 0.981, 1.07, 1.17, 1.29, 1.51] # Replace it to your measured values\n",
    "ideal = 0.981 * np.ones(len(threads))\n",
    "plt.plot(threads, times)\n",
    "plt.plot(threads, ideal, '--')\n",
    "plt.xlabel('Number of threads')\n",
    "plt.ylabel('Time for 10 iterations (s)')\n",
    "plt.legend(['Measured', 'Ideal'])\n",
    "plt.title('Weak scaling')\n",
    "plt.show()"
   ]
  }
 ],
 "metadata": {
  "kernelspec": {
   "display_name": "comphys-112",
   "language": "python",
   "name": "python3"
  },
  "language_info": {
   "codemirror_mode": {
    "name": "ipython",
    "version": 3
   },
   "file_extension": ".py",
   "mimetype": "text/x-python",
   "name": "python",
   "nbconvert_exporter": "python",
   "pygments_lexer": "ipython3",
   "version": "3.12.1"
  }
 },
 "nbformat": 4,
 "nbformat_minor": 2
}
