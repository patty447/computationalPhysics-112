{
 "cells": [
  {
   "cell_type": "markdown",
   "metadata": {},
   "source": [
    "# Finite Difference method for solving discrete Laplace Equation\n",
    "\n",
    "### Exercise 1: solve the 4x4 linear equation A.x = b"
   ]
  },
  {
   "cell_type": "markdown",
   "metadata": {},
   "source": [
    "`4*u[i,j] - u[i-1,j] - u[i+1,j] - u[i,j-1] - u[i,j+1] = 0`\n",
    "\n",
    "Dervie and solve the linear system A.x =b"
   ]
  },
  {
   "cell_type": "markdown",
   "metadata": {},
   "source": [
    "REF: https://docs.scipy.org/doc/scipy/reference/generated/scipy.linalg.solve.html#scipy.linalg.solve"
   ]
  },
  {
   "cell_type": "code",
   "execution_count": 1,
   "metadata": {},
   "outputs": [],
   "source": [
    "import numpy as np\n",
    "from scipy import linalg\n",
    "from numba import jit, njit, prange"
   ]
  },
  {
   "cell_type": "code",
   "execution_count": 2,
   "metadata": {},
   "outputs": [
    {
     "name": "stdout",
     "output_type": "stream",
     "text": [
      "[0.125 0.125 0.375 0.375]\n"
     ]
    }
   ],
   "source": [
    "#TODO\n",
    "A=np.array([[4,-1,-1,0],[-1,4,0,-1],[-1,0,4,-1],[0,-1,-1,4]])\n",
    "b=np.array([0,0,1,1])\n",
    "x=linalg.solve(A,b)\n",
    "print(x)"
   ]
  },
  {
   "cell_type": "markdown",
   "metadata": {},
   "source": [
    "### Exercise 2: arbitrary size of the matrix."
   ]
  },
  {
   "cell_type": "markdown",
   "metadata": {},
   "source": [
    "If we want our solve could sovle an arbitrary size of the system NxN in 2D.\\\n",
    "First, we need to generate the left-hand matrix. \\\n",
    "The left-hand matrix contains two components: One is an diagnoal matrix with only three banded values.\\\n",
    "The other component conatins negative identity matrice.\\\n",
    "\n",
    "we could use the `dia_matrix` in `scipy.sparse` and `np.identity()` for these components.\n",
    "\n",
    "REF: https://docs.scipy.org/doc/scipy/reference/sparse.html"
   ]
  },
  {
   "cell_type": "code",
   "execution_count": 3,
   "metadata": {},
   "outputs": [],
   "source": [
    "import numpy as np\n",
    "from scipy.sparse import dia_array  # if dia_array is not able, use dia_matrix\n",
    "from scipy.sparse import dia_matrix\n",
    "from numba import jit, njit, prange"
   ]
  },
  {
   "cell_type": "markdown",
   "metadata": {},
   "source": [
    "Part 1: \n",
    "\n",
    "Write a function to generate the matrxi A with arbitrary size N.\\\n",
    "The shpae of the matrix A is (N^2, N^2).\n",
    "\n",
    "Hints: depedning on your implmentation, you might want to use `numba` to speed it up."
   ]
  },
  {
   "cell_type": "markdown",
   "metadata": {},
   "source": [
    "We could decompose the matrix into several (N,N) submatrix and initialize the diagonal matrixs and the offset terms seperately."
   ]
  },
  {
   "cell_type": "code",
   "execution_count": 4,
   "metadata": {},
   "outputs": [],
   "source": [
    "def generate_the_laplace_matrix_with_size(N=4):\n",
    "    \"\"\"\n",
    "    assume sqrt(N) is an integer.\n",
    "\n",
    "    \"\"\"\n",
    "    nsq = N*N\n",
    "    A   = np.zeros((nsq,nsq)) \n",
    " \n",
    "    id_matrix=-np.identity(N)\n",
    "    \n",
    "    zero_matrix=np.zeros((N,N))\n",
    "    \n",
    "    ex=np.ones(N)\n",
    "    data=np.array([-ex,4*ex,-ex])\n",
    "    offsets=np.array([-1,0,1])\n",
    "    main_matrix=dia_array((data,offsets),shape=(N,N)).toarray() \n",
    "          \n",
    "    init_matrix_kernel(N,A,zero_matrix,id_matrix,main_matrix)\n",
    "\n",
    "    return A\n",
    "\n",
    "@njit(parallel=True)\n",
    "def init_matrix_kernel(N,A,zero_matrix,id_matrix,main_matrix):\n",
    "    for i in range(N):\n",
    "        for j in range(N):\n",
    "            \n",
    "            if i==j:\n",
    "                submatrix=main_matrix\n",
    "            elif abs(i-j)==1:\n",
    "                submatrix=id_matrix\n",
    "            else:\n",
    "                submatrix=zero_matrix\n",
    "                \n",
    "            for ii in range(N):\n",
    "                for jj in range(N):\n",
    "                    A[i*N+ii][j*N+jj]=submatrix[ii][jj]\n",
    "                    \n",
    "    return A"
   ]
  },
  {
   "cell_type": "code",
   "execution_count": 5,
   "metadata": {},
   "outputs": [
    {
     "name": "stdout",
     "output_type": "stream",
     "text": [
      "[[ 4. -1.  0.  0. -1. -0. -0. -0.  0.  0.  0.  0.  0.  0.  0.  0.]\n",
      " [-1.  4. -1.  0. -0. -1. -0. -0.  0.  0.  0.  0.  0.  0.  0.  0.]\n",
      " [ 0. -1.  4. -1. -0. -0. -1. -0.  0.  0.  0.  0.  0.  0.  0.  0.]\n",
      " [ 0.  0. -1.  4. -0. -0. -0. -1.  0.  0.  0.  0.  0.  0.  0.  0.]\n",
      " [-1. -0. -0. -0.  4. -1.  0.  0. -1. -0. -0. -0.  0.  0.  0.  0.]\n",
      " [-0. -1. -0. -0. -1.  4. -1.  0. -0. -1. -0. -0.  0.  0.  0.  0.]\n",
      " [-0. -0. -1. -0.  0. -1.  4. -1. -0. -0. -1. -0.  0.  0.  0.  0.]\n",
      " [-0. -0. -0. -1.  0.  0. -1.  4. -0. -0. -0. -1.  0.  0.  0.  0.]\n",
      " [ 0.  0.  0.  0. -1. -0. -0. -0.  4. -1.  0.  0. -1. -0. -0. -0.]\n",
      " [ 0.  0.  0.  0. -0. -1. -0. -0. -1.  4. -1.  0. -0. -1. -0. -0.]\n",
      " [ 0.  0.  0.  0. -0. -0. -1. -0.  0. -1.  4. -1. -0. -0. -1. -0.]\n",
      " [ 0.  0.  0.  0. -0. -0. -0. -1.  0.  0. -1.  4. -0. -0. -0. -1.]\n",
      " [ 0.  0.  0.  0.  0.  0.  0.  0. -1. -0. -0. -0.  4. -1.  0.  0.]\n",
      " [ 0.  0.  0.  0.  0.  0.  0.  0. -0. -1. -0. -0. -1.  4. -1.  0.]\n",
      " [ 0.  0.  0.  0.  0.  0.  0.  0. -0. -0. -1. -0.  0. -1.  4. -1.]\n",
      " [ 0.  0.  0.  0.  0.  0.  0.  0. -0. -0. -0. -1.  0.  0. -1.  4.]]\n"
     ]
    },
    {
     "name": "stderr",
     "output_type": "stream",
     "text": [
      "c:\\Users\\Asus\\AppData\\Local\\Programs\\Python\\Python312\\Lib\\site-packages\\numba\\core\\typed_passes.py:336: NumbaPerformanceWarning: \u001b[1m\n",
      "The keyword argument 'parallel=True' was specified but no transformation for parallel execution was possible.\n",
      "\n",
      "To find out why, try turning on parallel diagnostics, see https://numba.readthedocs.io/en/stable/user/parallel.html#diagnostics for help.\n",
      "\u001b[1m\n",
      "File \"..\\..\\..\\AppData\\Local\\Temp\\ipykernel_10880\\3997772853.py\", line 28:\u001b[0m\n",
      "\u001b[1m<source missing, REPL/exec in use?>\u001b[0m\n",
      "\u001b[0m\n",
      "  warnings.warn(errors.NumbaPerformanceWarning(msg,\n"
     ]
    }
   ],
   "source": [
    "N = 4\n",
    "A = generate_the_laplace_matrix_with_size(N)\n",
    "print(A)\n"
   ]
  },
  {
   "cell_type": "markdown",
   "metadata": {},
   "source": [
    "Part2:\n",
    "\n",
    "The right hand side of the lienar equation is a vecotr.\\\n",
    "generate a vecotr is simple with `np.array()`"
   ]
  },
  {
   "cell_type": "code",
   "execution_count": 6,
   "metadata": {},
   "outputs": [],
   "source": [
    "def generate_the_rhs_vector_with_size(N=4):\n",
    "    b = np.zeros(N*N)\n",
    "    b[-N:]=1\n",
    "\n",
    "\n",
    "\n",
    "    \n",
    "    return b"
   ]
  },
  {
   "cell_type": "code",
   "execution_count": 7,
   "metadata": {},
   "outputs": [
    {
     "name": "stdout",
     "output_type": "stream",
     "text": [
      "[0. 0. 0. 0. 0. 0. 0. 0. 0. 0. 0. 0. 1. 1. 1. 1.]\n"
     ]
    }
   ],
   "source": [
    "b = generate_the_rhs_vector_with_size(N=N)\n",
    "print(b)"
   ]
  },
  {
   "cell_type": "markdown",
   "metadata": {},
   "source": [
    "Part 3:\n",
    "\n",
    "Once we have the linear problem `A x = b`, we could solve the system with `scipy.linalg.solve` \n",
    "\n",
    "REF: https://docs.scipy.org/doc/scipy/reference/generated/scipy.linalg.solve.html#scipy.linalg.solve"
   ]
  },
  {
   "cell_type": "code",
   "execution_count": 8,
   "metadata": {},
   "outputs": [],
   "source": [
    "from scipy import linalg"
   ]
  },
  {
   "cell_type": "code",
   "execution_count": 9,
   "metadata": {},
   "outputs": [],
   "source": [
    "x = linalg.solve(A, b)"
   ]
  },
  {
   "cell_type": "markdown",
   "metadata": {},
   "source": [
    "Part 4:\n",
    "\n",
    "Once we have the solution, we should convert the solution vector to the finite difference grids `u[i,j]`."
   ]
  },
  {
   "cell_type": "code",
   "execution_count": 10,
   "metadata": {},
   "outputs": [],
   "source": [
    "def convert_solution(x):\n",
    "    usize = np.sqrt(len(x))\n",
    "    u = x.reshape(int(usize),int(usize)).transpose()\n",
    "    return u"
   ]
  },
  {
   "cell_type": "markdown",
   "metadata": {},
   "source": [
    "Part 5:\n",
    "\n",
    "Now, let's visualize the solution with `matplotlib`"
   ]
  },
  {
   "cell_type": "code",
   "execution_count": 11,
   "metadata": {},
   "outputs": [],
   "source": [
    "import matplotlib.pyplot as plt"
   ]
  },
  {
   "cell_type": "code",
   "execution_count": 12,
   "metadata": {},
   "outputs": [
    {
     "data": {
      "text/plain": [
       "<matplotlib.image.AxesImage at 0x1ca014d3950>"
      ]
     },
     "execution_count": 12,
     "metadata": {},
     "output_type": "execute_result"
    },
    {
     "data": {
      "image/png": "[encoded data removed]",
      "text/plain": [
       "<Figure size 640x480 with 1 Axes>"
      ]
     },
     "metadata": {},
     "output_type": "display_data"
    }
   ],
   "source": [
    "u = convert_solution(x)\n",
    "plt.imshow(u.T,origin=\"lower\")"
   ]
  },
  {
   "cell_type": "markdown",
   "metadata": {},
   "source": [
    "Part 6:\n",
    "\n",
    "Now we have tested our code, we could write a \"solver\" function to wrap all necessary codes.\\\n",
    "This solver function could be either in the notebook or in a seperate python file."
   ]
  },
  {
   "cell_type": "code",
   "execution_count": 13,
   "metadata": {},
   "outputs": [],
   "source": [
    "def solve_laplace(N=16):\n",
    "    A = generate_the_laplace_matrix_with_size(N=N)\n",
    "    b = generate_the_rhs_vector_with_size(N=N)\n",
    "    x = linalg.solve(A,b)\n",
    "    u = convert_solution(x)\n",
    "    return u"
   ]
  },
  {
   "cell_type": "code",
   "execution_count": 14,
   "metadata": {},
   "outputs": [],
   "source": [
    "u = solve_laplace(N=64)"
   ]
  },
  {
   "cell_type": "code",
   "execution_count": 15,
   "metadata": {},
   "outputs": [
    {
     "data": {
      "text/plain": [
       "<matplotlib.image.AxesImage at 0x1ca0173f380>"
      ]
     },
     "execution_count": 15,
     "metadata": {},
     "output_type": "execute_result"
    },
    {
     "data": {
      "image/png": "[encoded data removed]",
      "text/plain": [
       "<Figure size 640x480 with 1 Axes>"
      ]
     },
     "metadata": {},
     "output_type": "display_data"
    }
   ],
   "source": [
    "plt.imshow(u.T,origin=\"lower\")"
   ]
  },
  {
   "cell_type": "code",
   "execution_count": 16,
   "metadata": {},
   "outputs": [],
   "source": [
    "field = np.gradient(u)"
   ]
  },
  {
   "cell_type": "code",
   "execution_count": 17,
   "metadata": {},
   "outputs": [
    {
     "data": {
      "text/plain": [
       "<matplotlib.image.AxesImage at 0x1ca017d4710>"
      ]
     },
     "execution_count": 17,
     "metadata": {},
     "output_type": "execute_result"
    },
    {
     "data": {
      "image/png": "[encoded data removed]",
      "text/plain": [
       "<Figure size 640x480 with 1 Axes>"
      ]
     },
     "metadata": {},
     "output_type": "display_data"
    }
   ],
   "source": [
    "plt.imshow(field[1].T,origin=\"lower\")"
   ]
  },
  {
   "cell_type": "markdown",
   "metadata": {},
   "source": [
    "Part 7:\n",
    "\n",
    "The buttole neck of this solver is in the `linalg.solve()`.\\\n",
    "Let's measure the performance of `linalg.solve()` with different resolutions."
   ]
  },
  {
   "cell_type": "code",
   "execution_count": 18,
   "metadata": {},
   "outputs": [],
   "source": [
    "import time"
   ]
  },
  {
   "cell_type": "code",
   "execution_count": 19,
   "metadata": {},
   "outputs": [
    {
     "name": "stdout",
     "output_type": "stream",
     "text": [
      "Measuring resolution N =  8\n"
     ]
    },
    {
     "name": "stderr",
     "output_type": "stream",
     "text": [
      "c:\\Users\\Asus\\AppData\\Local\\Programs\\Python\\Python312\\Lib\\site-packages\\numba\\core\\typed_passes.py:336: NumbaPerformanceWarning: \u001b[1m\n",
      "The keyword argument 'parallel=True' was specified but no transformation for parallel execution was possible.\n",
      "\n",
      "To find out why, try turning on parallel diagnostics, see https://numba.readthedocs.io/en/stable/user/parallel.html#diagnostics for help.\n",
      "\u001b[1m\n",
      "File \"..\\..\\..\\AppData\\Local\\Temp\\ipykernel_10880\\3997772853.py\", line 28:\u001b[0m\n",
      "\u001b[1m<source missing, REPL/exec in use?>\u001b[0m\n",
      "\u001b[0m\n",
      "  warnings.warn(errors.NumbaPerformanceWarning(msg,\n"
     ]
    },
    {
     "name": "stdout",
     "output_type": "stream",
     "text": [
      "Measuring resolution N =  16\n",
      "Measuring resolution N =  32\n",
      "Measuring resolution N =  64\n",
      "Measuring resolution N =  128\n"
     ]
    }
   ],
   "source": [
    "resolutions = np.array([8,16,32,64,128])\n",
    "times       = np.zeros(len(resolutions))\n",
    "\n",
    "for i, N in enumerate(resolutions):\n",
    "    print(\"Measuring resolution N = \", N)\n",
    "    A = generate_the_laplace_matrix_with_size(N)\n",
    "    b = generate_the_rhs_vector_with_size(N)\n",
    "    t1 = time.time()\n",
    "    x  = linalg.solve(A,b)\n",
    "    t2 = time.time()\n",
    "    times[i] = (t2-t1)"
   ]
  },
  {
   "cell_type": "markdown",
   "metadata": {},
   "source": [
    "Part 8:\n",
    "\n",
    "Plot Computing time vs N in log-log scale."
   ]
  },
  {
   "cell_type": "code",
   "execution_count": 20,
   "metadata": {},
   "outputs": [
    {
     "name": "stderr",
     "output_type": "stream",
     "text": [
      "C:\\Users\\Asus\\AppData\\Local\\Temp\\ipykernel_10880\\3532761207.py:3: RuntimeWarning: divide by zero encountered in divide\n",
      "  plt.plot(resolutions,times[-1]*resolutions**5/resolutions[-1]**5)\n",
      "C:\\Users\\Asus\\AppData\\Local\\Temp\\ipykernel_10880\\3532761207.py:3: RuntimeWarning: invalid value encountered in divide\n",
      "  plt.plot(resolutions,times[-1]*resolutions**5/resolutions[-1]**5)\n"
     ]
    },
    {
     "data": {
      "text/plain": [
       "Text(0, 0.5, 'Times [sec]')"
      ]
     },
     "execution_count": 20,
     "metadata": {},
     "output_type": "execute_result"
    },
    {
     "data": {
      "image/png": "[encoded data removed]",
      "text/plain": [
       "<Figure size 640x480 with 1 Axes>"
      ]
     },
     "metadata": {},
     "output_type": "display_data"
    }
   ],
   "source": [
    "plt.figure(1)\n",
    "plt.plot(resolutions,times,'-o')\n",
    "plt.plot(resolutions,times[-1]*resolutions**5/resolutions[-1]**5)\n",
    "plt.xscale('log')\n",
    "plt.yscale('log')\n",
    "plt.xlabel(\"Resolution (N)\")\n",
    "plt.ylabel(\"Times [sec]\")"
   ]
  },
  {
   "cell_type": "markdown",
   "metadata": {},
   "source": [
    "You could see that the perofmance is propotional to `N^5`!\\\n",
    "This is becasue the size of the matrix A is proportional to `N^2` and\\\n",
    "the calculation time of `linalg.solve(M,b)` is proportial to the cubic of the size of M, N^3,\\\n",
    "giving `N^5` at the end."
   ]
  },
  {
   "cell_type": "markdown",
   "metadata": {},
   "source": [
    "The `scipy.linalg.solve` is robust, but since the matrix A is a sparse matrix, we could use special method to solve it.\n",
    "\n",
    "REF: https://docs.scipy.org/doc/scipy/reference/generated/scipy.sparse.linalg.spsolve.html"
   ]
  },
  {
   "cell_type": "code",
   "execution_count": 21,
   "metadata": {},
   "outputs": [],
   "source": [
    "from scipy.sparse import csc_matrix\n",
    "import scipy.sparse.linalg as splinalg"
   ]
  },
  {
   "cell_type": "code",
   "execution_count": 22,
   "metadata": {},
   "outputs": [],
   "source": [
    "N = 16\n",
    "A = generate_the_laplace_matrix_with_size(N)\n",
    "A = csc_matrix(A)\n",
    "b = generate_the_rhs_vector_with_size(N)\n",
    "x = splinalg.spsolve(A,b)"
   ]
  },
  {
   "cell_type": "markdown",
   "metadata": {},
   "source": [
    "Let's measure the performance again with `spsolve()`"
   ]
  },
  {
   "cell_type": "code",
   "execution_count": 23,
   "metadata": {},
   "outputs": [
    {
     "name": "stdout",
     "output_type": "stream",
     "text": [
      "Measuring resolution N =  8\n",
      "Measuring resolution N =  16\n",
      "Measuring resolution N =  32\n",
      "Measuring resolution N =  64\n",
      "Measuring resolution N =  128\n",
      "Measuring resolution N =  256\n"
     ]
    },
    {
     "ename": "MemoryError",
     "evalue": "Unable to allocate 32.0 GiB for an array with shape (65536, 65536) and data type float64",
     "output_type": "error",
     "traceback": [
      "\u001b[1;31m---------------------------------------------------------------------------\u001b[0m",
      "\u001b[1;31mMemoryError\u001b[0m                               Traceback (most recent call last)",
      "Cell \u001b[1;32mIn[23], line 6\u001b[0m\n\u001b[0;32m      4\u001b[0m \u001b[38;5;28;01mfor\u001b[39;00m i, N \u001b[38;5;129;01min\u001b[39;00m \u001b[38;5;28menumerate\u001b[39m(resolutions):\n\u001b[0;32m      5\u001b[0m     \u001b[38;5;28mprint\u001b[39m(\u001b[38;5;124m\"\u001b[39m\u001b[38;5;124mMeasuring resolution N = \u001b[39m\u001b[38;5;124m\"\u001b[39m, N)\n\u001b[1;32m----> 6\u001b[0m     A \u001b[38;5;241m=\u001b[39m \u001b[43mgenerate_the_laplace_matrix_with_size\u001b[49m\u001b[43m(\u001b[49m\u001b[43mN\u001b[49m\u001b[43m)\u001b[49m\n\u001b[0;32m      7\u001b[0m     A \u001b[38;5;241m=\u001b[39m csc_matrix(A)\n\u001b[0;32m      8\u001b[0m     b \u001b[38;5;241m=\u001b[39m generate_the_rhs_vector_with_size(N)\n",
      "Cell \u001b[1;32mIn[4], line 7\u001b[0m, in \u001b[0;36mgenerate_the_laplace_matrix_with_size\u001b[1;34m(N)\u001b[0m\n\u001b[0;32m      2\u001b[0m \u001b[38;5;250m\u001b[39m\u001b[38;5;124;03m\"\"\"\u001b[39;00m\n\u001b[0;32m      3\u001b[0m \u001b[38;5;124;03massume sqrt(N) is an integer.\u001b[39;00m\n\u001b[0;32m      4\u001b[0m \n\u001b[0;32m      5\u001b[0m \u001b[38;5;124;03m\"\"\"\u001b[39;00m\n\u001b[0;32m      6\u001b[0m nsq \u001b[38;5;241m=\u001b[39m N\u001b[38;5;241m*\u001b[39mN\n\u001b[1;32m----> 7\u001b[0m A   \u001b[38;5;241m=\u001b[39m \u001b[43mnp\u001b[49m\u001b[38;5;241;43m.\u001b[39;49m\u001b[43mzeros\u001b[49m\u001b[43m(\u001b[49m\u001b[43m(\u001b[49m\u001b[43mnsq\u001b[49m\u001b[43m,\u001b[49m\u001b[43mnsq\u001b[49m\u001b[43m)\u001b[49m\u001b[43m)\u001b[49m\n\u001b[0;32m      8\u001b[0m \u001b[38;5;66;03m# ex=np.ones(nsq)\u001b[39;00m\n\u001b[0;32m      9\u001b[0m \u001b[38;5;66;03m# data=np.array([-ex,-ex,4*ex,-ex,-ex])\u001b[39;00m\n\u001b[0;32m     10\u001b[0m \u001b[38;5;66;03m# offsets=np.array([-N,-1,0,1,N])\u001b[39;00m\n\u001b[0;32m     11\u001b[0m \u001b[38;5;66;03m# A=dia_array((data,offsets),shape=(nsq,nsq)).toarray() \u001b[39;00m\n\u001b[0;32m     13\u001b[0m id_matrix\u001b[38;5;241m=\u001b[39m\u001b[38;5;241m-\u001b[39mnp\u001b[38;5;241m.\u001b[39midentity(N)\n",
      "\u001b[1;31mMemoryError\u001b[0m: Unable to allocate 32.0 GiB for an array with shape (65536, 65536) and data type float64"
     ]
    }
   ],
   "source": [
    "resolutions = np.array([8,16,32,64,128,256])\n",
    "times_sp    = np.zeros(len(resolutions))\n",
    "\n",
    "for i, N in enumerate(resolutions):\n",
    "    print(\"Measuring resolution N = \", N)\n",
    "    A = generate_the_laplace_matrix_with_size(N)\n",
    "    A = csc_matrix(A)\n",
    "    b = generate_the_rhs_vector_with_size(N)\n",
    "    t1 = time.time()\n",
    "    x  = splinalg.spsolve(A,b)\n",
    "    t2 = time.time()\n",
    "    times_sp[i] = (t2-t1)"
   ]
  },
  {
   "cell_type": "code",
   "execution_count": null,
   "metadata": {},
   "outputs": [],
   "source": [
    "resolutions1 = np.array([8,16,32,64,128])\n",
    "\n",
    "plt.figure(1)\n",
    "plt.plot(resolutions1[:-1],times[:-1],'b-o',label=\"Default solve()\")\n",
    "plt.plot(resolutions1,times[-1]*resolutions1**5/resolutions1[-1]**5,'b--')\n",
    "plt.plot(resolutions,times_sp,'r-o', label=\"spsolve()\")\n",
    "plt.plot(resolutions,times_sp[-1]*resolutions**2/resolutions[-1]**2,'r--')\n",
    "plt.xscale('log')\n",
    "plt.yscale('log')\n",
    "plt.legend(loc='upper left')\n",
    "plt.xlabel(\"Resolution (N)\")\n",
    "plt.ylabel(\"Times [sec]\")"
   ]
  },
  {
   "cell_type": "markdown",
   "metadata": {},
   "source": [
    "You got several oreders of speedup if you know the matrix is a sparse matrix."
   ]
  }
 ],
 "metadata": {
  "kernelspec": {
   "display_name": "comphys-112",
   "language": "python",
   "name": "python3"
  },
  "language_info": {
   "codemirror_mode": {
    "name": "ipython",
    "version": 3
   },
   "file_extension": ".py",
   "mimetype": "text/x-python",
   "name": "python",
   "nbconvert_exporter": "python",
   "pygments_lexer": "ipython3",
   "version": "3.12.1"
  }
 },
 "nbformat": 4,
 "nbformat_minor": 2
}
